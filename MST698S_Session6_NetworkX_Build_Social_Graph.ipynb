{
  "nbformat": 4,
  "nbformat_minor": 0,
  "metadata": {
    "kernelspec": {
      "name": "python3",
      "display_name": "Python 3"
    },
    "colab": {
      "name": "MST698S_Session6_NetworkX_Build_Social_Graph.ipynb",
      "provenance": []
    },
    "accelerator": "TPU"
  },
  "cells": [
    {
      "cell_type": "markdown",
      "metadata": {
        "id": "dVBPo8JnXymo",
        "colab_type": "text"
      },
      "source": [
        "## MST 698S - Data Science Tools and Techniques\n",
        "\n",
        "## Network X - Build Network from Twitter Data"
      ]
    },
    {
      "cell_type": "markdown",
      "metadata": {
        "id": "iBMviIBvXynF",
        "colab_type": "text"
      },
      "source": [
        "Import relevant libraries:"
      ]
    },
    {
      "cell_type": "code",
      "metadata": {
        "id": "gMbk_c1PXynU",
        "colab_type": "code",
        "colab": {}
      },
      "source": [
        "import networkx as nx\n",
        "import json\n",
        "import numpy as np\n",
        "from copy import deepcopy"
      ],
      "execution_count": 0,
      "outputs": []
    },
    {
      "cell_type": "markdown",
      "metadata": {
        "id": "2Sh64MYsXynt",
        "colab_type": "text"
      },
      "source": [
        "Define global parameters:"
      ]
    },
    {
      "cell_type": "code",
      "metadata": {
        "id": "pCTrrAbWXyn0",
        "colab_type": "code",
        "colab": {}
      },
      "source": [
        "twitter_followers_path = r'twitter_followers.json'"
      ],
      "execution_count": 0,
      "outputs": []
    },
    {
      "cell_type": "markdown",
      "metadata": {
        "id": "PMccZHntXyoJ",
        "colab_type": "text"
      },
      "source": [
        "Define relevant functions:"
      ]
    },
    {
      "cell_type": "code",
      "metadata": {
        "id": "CTZuS8X8XyoO",
        "colab_type": "code",
        "colab": {}
      },
      "source": [
        "#Get set of user_ids\n",
        "def get_unique_ids(followers_dict_list):\n",
        "    all_screen_names_list = []\n",
        "    for follower in followers_dict_list:\n",
        "        followers_list = list(follower.values())[0]\n",
        "        all_screen_names_list = all_screen_names_list + followers_list\n",
        "        all_screen_names_list.append(list(follower.keys())[0])\n",
        "    unique_screen_names = list(set(all_screen_names_list))\n",
        "    return unique_screen_names\n",
        "\n",
        "#Get unique edges\n",
        "def clean_edge_list(edge_list):\n",
        "    temp = []\n",
        "    for (a,b) in edge_list:\n",
        "        if (a,b) not in temp and (b,a) not in temp:\n",
        "            if (a,b) != (b,a):\n",
        "                temp.append((a,b))\n",
        "    output = 1*temp\n",
        "    return output\n",
        "\n",
        "#Get edge list\n",
        "def get_edges(followers_dict_list):\n",
        "    edge_list = []\n",
        "    edge_list_out = []\n",
        "    for relationship in followers_dict_list:\n",
        "        for friend in list(relationship.values())[0]:\n",
        "            edge = (list(relationship.keys())[0],friend)\n",
        "            edge_list.append(edge)\n",
        "    edge_list = list(set(edge_list))\n",
        "    edge_list_out = clean_edge_list(edge_list)\n",
        "    return edge_list_out\n",
        "\n",
        "\n",
        "#Build association matrix\n",
        "def build_association_matrix(followers_dict_list):\n",
        "    output_matrix = []\n",
        "    unique_names = get_unique_ids(followers_dict_list)\n",
        "    followers_2 = []\n",
        "    for unique_name in unique_names:\n",
        "        name_array = []\n",
        "        for follower_list in followers_dict_list:\n",
        "            if list(follower_list.keys())[0] == unique_name:\n",
        "                followers_2 = list(follower_list.values())\n",
        "        for unique_name in unique_names:\n",
        "            if unique_name in followers_2:\n",
        "                name_array.append(1)\n",
        "            else:\n",
        "                name_array.append(0)\n",
        "        output_matrix.append(name_array)\n",
        "    association_matrix = np.matrix(output_matrix)\n",
        "    return association_matrix\n",
        "\n",
        "#build graph\n",
        "def build_ego_graph(unique_screen_names, edge_list_out):\n",
        "    G = nx.Graph()\n",
        "    G.add_nodes_from(unique_screen_names)\n",
        "    G.add_edges_from(edge_list_out)\n",
        "    return G"
      ],
      "execution_count": 0,
      "outputs": []
    },
    {
      "cell_type": "markdown",
      "metadata": {
        "id": "7h95zp-1Xyof",
        "colab_type": "text"
      },
      "source": [
        "Let's import our twitter followers list and print the first few items:"
      ]
    },
    {
      "cell_type": "code",
      "metadata": {
        "scrolled": true,
        "id": "r1BvId9ZXyoi",
        "colab_type": "code",
        "colab": {
          "base_uri": "https://localhost:8080/",
          "height": 55
        },
        "outputId": "ae36fc83-85b6-4005-8192-56e082804074"
      },
      "source": [
        "with open(twitter_followers_path, 'r') as twitter_file:\n",
        "    followers_list = json.load(twitter_file)\n",
        "\n",
        "print(followers_list[:10])"
      ],
      "execution_count": 4,
      "outputs": [
        {
          "output_type": "stream",
          "text": [
            "[{'Komarova220899': ['Saelky1', 'namedmeklass', 'esia96', 'Arsenteva_katy']}, {'kmUloUTTY30jlMP': ['Komarova220899', 'vitalikcalm', '_brkv_', 'bokkarev1', 'Malyshe2002', '__ELIZAVETA__', 'moskalevaal01', 'hellofriends92', 'marina_alek', 'l0224m', 'shidagis04033', 'Alina_Kata_', 'Polina_Ivchenko', 'imlerachka', 'ninka_ushastyy', 'dashadasha25', 'Koshka23082012', '_Tomilina_']}, {'svLja3KwvMDcrGi': []}, {'sshhfq': ['87FvuoW2GbufOPU', 'k_chernenko', 'moskalevaal01', 'sofika_999', 'alexandr_25_17', '2QfpBoA43t1tzcL', '_Karimova_15', 'v_malenda', 'mokretsova_38', 'davidovaeliz02', 'vlasevskaya2016', 'TSerega_138RUS', '666Sofya', 'anastasssss_', 'shidagis04033', 'bezenkova_777']}, {'v71xk': []}, {'v_malenda': ['_wicked19_', 'sshhfq7', 'ti7s0d7v1tOh3K4', '9XbxzD6XfV73duz', 'alexandr_25_17', 'crybabycry050', 'rusaliiinaaa', '_vorotilova_', 'sshhfq', 'Petstore_ru']}, {'Km9873185647': ['_vorotilova_', 'mokretsova_38']}, {'neoeroakauraaka': ['dkkcp', 'yokopvawjbwm', 'sefurematuri', 'iKPE8GV55', 'sat04449506', 'Polarbear_Eddie', 'E86ptmH34Ed0u3w', 'elio79827975', 'qqqxwpvqyaxi', 'Sinn2851', 'XobjXpVOQv2T2k3', 'hh9ew', 'Tnishio4', 'XZxALVhFhhVIhWX', 'GzrQIX37Nj3K2QP', '_5h7BQC9', '0_yoe', 'ku2yK5FlouBkNKp', 'suhacan1296', 'uzfI1GKbfkNkLNB', 'ddanishali205', 'cambodiandriver', '4TsCPV8GV', 'osAN3MuanPOzcrc', 'Me62272565', 'kohanedayo__', 'IQP2bmDb6yMewjh', 'CoiKaze', 'puwiykbetbuu', 'Iyos62170682', 'blSAqvk4eL3twdY', 'xwmThaLpNc', 'ofpakosex1', 'meuraakame', 'uZu8J60eGwVFLYh', 'fAurNWqbcUliX47', 'yoongkent731', 'pwpKpVMBE_ZM', 'FanzaDmm', 'GACKT_TAKERU', 'PTony69', 'SIDyasiro', 'xb2tn6pk', 'JuTwTuMELCeR', 'korak88875426', 'andylovecake72', 'csmumqcwwumt', 'Roy77436420', 'vxlZPccdOh3mQdG', 'CPPPpReo1RfPaIj', 'rHay0CCNLjkpsLZ', 'lAFP2WLTY8D4uZd', 'pandahenntai', 'mDIHW1GojcpoFMG', 'rMXMm2xf6JGdAGV', 'glnHlfFZKJy8Mkp', 'h3fpimGM', 'yCndj3C7ADbP', 'ezrsagmzjlhk', 'Kyou63985793', 'cosmin76535329', 'SambahBah11', 'momow198292', 'ogachan3777', 'S69974584', 'ps004673', 'sherekann196', 'CHERRY42068809', '5zgZEijTn', 'takezou0112', 'qE3kGkgyhSh0jC6', 'jagm556', 'hidee1111', 'Docd7fhTqslBeHf', 'HR6fmbCa', 'lZU1voqthqa0Gth', '3xyM1XjdPH6R2iU', 'Gy6ltHyFZmx2DIi', '4TVUiqmgt0gGO8V', 'yytzvlmiwjgg', 'S00356588', 'j4bHf9WReTJTrkh', 'hentai091146', 'iRhatTd2t6CTh5', 'lhieflyizbgi', 'Bennybo48329361', 'TwYE1zVXT5xYjOc', 'Somchai41235882', 'seihekiijouyo', 'jjd_q3', 'reiponhuges', 'mmms82469732', 'LJLyYSpX', '9DAF5ztNelDxY9l', 'yamiki_xxx', 'NEs27Qsb7NSz', 'tKKUhncjnDec1Ey', 'q0BMxA0QLYYqGmz', 'yaoyi05', 'pGu7kKcBLUDxguA', 'XgRAJNar', 'AnH80OLhQnj48vS', 'f2mFqh4uuyeIu4t', 'joke3350', 'dgYV2HVtxmeJAd', 'XJo0XWarCoM0BYH', 'manananana555', 'RodolfoRomagno1', 'shinkuma9', 'namagasukidayo', 'smapho_ero', '_5mnb46E', 'yumekibohh', 'nori07269903', 'z4rkj0lw', 'sehurekeiapp', 'pkatasimust', 'ohupakorank', 'ohupakoappli', 'IsmaelG21067028', 'buster25588916', 'kanojoboshuus', 'papadeaisss', 'papakatsureport', 'yuripooonss', 'THb6kE1t22lMqUf', 'tijodeainara', 'v8JwuCFLZG2cLXi', 'azumayukass', 'yukaer0', 'bdsmplays', 'renai_asobi', 'jun46464949', 'bot74662713', 'maki0809love12', 'rVtc0Ule7c03DFB', 'MGzA5SKDHTjL', 'douteimadam', 'kahottyann', 'sayakaeroakas', 'kareshibosyusss', 'sehurekoujou', 'satsukirrrs', 'satikouss', 'eripuraaaka', 'sinnshakaijin', 'ganmenkijouis', 'k_ik_i0', 'siorinngbee', 'iorinsss', 'sm_snipers', 'ofupacooo', 'junnkosanb', 'nakamuraaal', 'suutyannsss', 'otokonokoeros', 'analuraakas', 'yyconlines', 'aijinnsagashi', 'tebukurofeti', 'naTsu_72x', 'mutuminnns', 'alice_inx', 'pipipi_xex', 'sehurekeideai', 'ayukadayer', 'nikubenkoa', 'yuubirinndd', 'livefehack', 'koukasumu', 'waiwaicee', 'miwa_ishikawatt', 'zazzysport', 'imakoinow', 'aijinndemoii', 'snstyuudoku', 'ryohitozuma', 'roshutukyoubb', 'miyukittyanner', 'yuukatwwe', 'asamimimeme', 'reikasnsp', 'gomufeti66', 'tisatarouero', 'meanigme', 'jiyuukaiyu', 'konkatsusnss', 'mongerikas', 'uiuiuieros', 'jaytrippers', 'sachiexxxxxyz', 'smsekkususns', 'uuuuyyyyinfo', 'GAIANT2DDY', 'auauaikos', 'ofupakodeais', 'asukasanrr', 'threepplays', 'namikonamis', 'kissfetishsns', 'onaniifeti', 'akatyanplay', 'animedeaiss', 'douteiadvice', 'yuukatyam', 'sehuredeaisns', 'atyannnnnn', 'amikannrr', 'yurigaminjj', 'tunagaruprof', 'meimeityansm', 'kojouifeti', '09ajdl', 'yuuuutuanmu', 'si1n0', 'a_xox_i', 'riririkooos', 'profilezenryaku', 'mjosandesu', 'otonanokoiwo', 'saesaedon', 'yuzukiggg', 'shojomoratte', 'echiechino', 'kanaeuratomo', 'harukanpops', 'tijotonodeai', 'uutyannnnn', 'starprupinu', 'mi_ki_u', 'Ne_x_ne', 'reeeina_x', 'furinaitenara', 'akemi_sehure', 'yuuui_pi', 'iidakeikou', 'jukujonokoi', 'sessifeti', 'mayutansbe', 'oishasangokkos', 'wakanasex2929', 'gomufeti', 'yuikajjhh', 'obasanloves', 'gasumasukufeti', 'nakadashide', 'deeeeeseees', 'gyakuanalp', 'namiwakakos', 'furinsekkusss', 'yuip_electeo', 'jiyuurenais', 'yukikoppyy', 'homanjukujos', 'hentaisekkusus', 'takakonoda', 'julyjulieqq', 'im_telokin_', 'yue_dreamins', 'utiyayukiko', 'jayjeyzee', 'rubyrabyruby', 'EroskaYurie', 'daydaydau', 'deai_sns_shun', 'kasumiidols', 'yycmatching', 'dayloveswe', 'kaedeyday', 'yukariflashies', 'rumibyan', 'ichiko1996v', 'yukiko4ayumi', 'minnymunnys', 'tatibana_reisss', 'natukoi691', 'yukka1995z', 'bizariie_love', 'nousebepppp', 'natunatu5v', 'uraayuyuyuyuyu', 'newlifebe69', 'huruehururu', 'puredeaisns', 'realppppy', 'spaceuuuut', 'nuumuuzooo', 'inter_net_lifes', 'aikoieross', 'eikokokoyy', 'deaihisshou', 'sanaenoeroaka', 'qz2_aoy', 'T1139DT', 'erooon76', 'ma___yu0', 'am_i_ti', 'wqv5mbs25', 'hoshi7m0', 'aka_ero_', 'man_a__', 'kijoui_nakadasi', 'mikamika1993', 'erogif_official', 'kaedechan9', 'kabm7v18', 'miyumiyu_3516', 'VJ3NnSXWokWjTdV', 'JK76838724', 'yuuuchnn129', 'reyty43456', 'kuronekosssssn', 'kittyhuij990', 'tweef34', 'e_na__k0', 'yin980', 'aimi_love_sex55', 'h0n0kA_a', 'sechan84', 'karen_go5', 'xrio_urax', '32mi2k1', 'kar111nx', 'kmc__ur', 'e_ri_nax', 'h__a_n', 'xmi_max', 'kiii37', 'merameranomi22', 'ma___mayu', 'naru_k0', 'naa__k0', 'mi__u_xx', 'moooa_a', 'm0m0_xo', 'aa___shan', 'marika0704', 'sakuuu1213', 'n111_na7', 'naaaaan0h', 'kyo00on', 'lo___a', 'yuco_0x0', 'a__zk1', 'xpoppo0x', 'yu_ma_max', 'syok0ra', 'mo_namix', 'Ri_x_Sa', 'natumekawaiku', 'motiti_x', 'aayuyumumu', 'rinrin_pii', 'mopipiy', 'gankijous', 'hentaisekkusu', 'aoiaoiooos', 'eroettiero', 'anancocox', 'kyouhaiitenki', 'anank0k0', 'ririkalifes', 'konkond000', 'tel_h_suki', 'nenetyannbe', 'ppppppptttts', 'mihochan255', 'yurilovedays', 'aisehure_aka', 'Pf9flyCYfdY0XP2', 'mi_rei_e', 'remina_hitodum', 'konatsu_hitodum', 'konatsu_sehure', 'yjCW7yjTklZTson', 'erika_sehure', 'YkbTx6oNmQ6D9mL']}, {'malaiys': ['PUr5qirJvIG6nFn', 'grishunya777', 'mrch_4', 'drunk___youth', 'vlaskaaa', 'Hiiiiii77819211', '_wicked19_', 'TanLenskaya', 'dashakoshkina37', 'pelageya______', 'arustamjan_', 'shevaksenis', 'ValyaBaby555', 'sadblackx', 'kurdyusik', 'sh44dasshaa', 'Sonya_Si_S', '__seashy__', 'pupsolet', 'rebusna666', 'suicideee_girl_', 'EsinaYulia', 'tNoIKZ07wE9P5hI', 'zynnOe9V5SDIKRF', 'davidovaeliz02', '17noyabrya', 'mironova_1611', 'annishhhhh', 'SATORI_GUIDE', 'asicksssss', 'Zayarinito', '129poshelnaxy', 'fin_fon1', 'koksyushik', 'cVeZElmuYCICXPw', 'Ksenia__nsk', 'annanowa53', 'WF0W1L4Qv229JZK', 'di_Sergeeva__', 'jDGtZDbfgqX0Qz2', 'vikkg16', 'Katya230397', 'dddtttu13', 'abcdilan', 'alinehause', '28_irina_05', 'SharktrutsNo1', 'FHell03', 'tr4hc', 'arhipa13', 'diiiiiiii0', 'maxxxik1996', 'r2r2k3l3l32', '8bpFWOknWezsHlf', 'Ponjol4', 'ty23798ty', '_yann_tomboy_', 'Sonyaalthesame', 'XZEVq4CNS3uHZcq', 'ns_point_', 'ValeriaShu15', 'AnnaVin30213545', 'DavidLawrie8', 'winston95625785', 'annaklemenova13', 'vilkoiraz_dva2', 'anastasia258214', 'ilya_not_happy', 'dato_ornella', 'r3sr4e4e5', 'hmd37437505', 'polinaradionov', 'ow___kat', 'Kkkkkksta', 'TimCarlton13', 'tatarochka77', 'cGSc3eDnL7t6Z8k', 'TatianaMurrr', 'keeshyou', 'ektrrrrr', 'orffbnoTZXquaWL', 'sahkatihon', 'TrampolineV', 'KriSss130203', 'wanderingstarja', 'Kuzbeki_001', 'viksterovna', 'polinkkkkaaa', 'Vikulya_21_12_', 'AlinaBorisova16', 'maestrkl', '_klsnk_', 'VXJGYPHr8TiNaJ3', 'nastyyaa_6', 'lixo_se', 'xllisenok', 'auM5Vs2gTRlQVEh', '_R_YA_A_', 'anet_berry', 'aldra_kk', 'nv_parhomenko', 'K_K_Bounce', 'darya_durnova', 'resadreds', 'sheps3133', 'ch_b27', 'esketitfck', 'BilayaEL', 'KzZhakyp', '1999_unicorn', 'sad_pic', 'kolmakovaaa', 'gsm31986246', 'zaebalasssssss', 'Mary454505', 'KatyaSedoshenko', 'rudneva_', 'Averina2319', 'jVxCsxSU7K5QtY5', 'kontyrenko1999', 'Pastukhova__', 'alxtws', 'Yanchik_4', 'ksenia_matyu', '_mertvay_', 'vvermuttt', 'AKhramenkova', 'AlionaNeon', 'mouse2702', '_Karimova_15', 'KateHaminova', 'Liltrip8', 'ChipstChipstas', '_vorotilova_', 'hahalina_n', 'Kara1Karamurat', 'madness28286099', 'n_ivanova99', '21Katya1', 'LilianHoup', 'POlinka288', 'Vnastyaaa', 'Anastasi0901', 'tomasik04', 'Sanechek666', 'ltvnst', '_filipkova_', 'naallune1', 'Rimma17mtvv', 'zapax_jop', 'biiiitchhhhhh', 'upiraw', 'shimanovskkya', 'Zolotov359', 'ArtsNadim', 'iryanyam', 'polina_kit9', '_rimma00_', 'gafnersha', 'POGRANICHNAIA_', 'peaceandxlovex', 'kn_anastasi', 'wiley17354', 'margoprotasevi1', 'nastya6791', 'p4golubev', 'geo_girl_', 'lilo04122', 'Malinka81663373', 'vdasha1998', 'SvetaIvlieva', 'katylichka', 'atmsfrm', 'drfool23', 'alinaa_n1207', 'barry_wife', 'k_luntek', 'Nastasia_Tsr', 'lv_echh', 'krisgrudjko', 'zhur_bonjur', 'A1inessa15', '__doll_barbie_', 'dinhanis', 'Vaaalerii1', 'ZhenyaPlotnikov', 'ia_nenavizhu', 'utopiamoya', 'ntl_smnv_', 'mayaaaaaget', 'otvechaesh', 'FEMMEFATALE2411', 'sad_child_kille', 'maarry_mrr', 'murmurblin', 'yourbadwishesss', 'chachinali17', 'Oksana16021998', 'IlinykhPolina', 'AlinaSavitska21', 'pogodina_00_0', 'chtochtozdes', 'yuliaavgustovsk', 'tvoyazvezdochka', 'light_violence', 'Diana_Chertkova', 'grekovva', 'icenuts951', 'vershinadel', 'PolinaOpaska25', 'stasya_popova18', 'KBSterva', '_khoroshevskay_', 'mmmmmfilat', 'Narodetskaya1', 'polina_ignat', 'rtberezhnaya', 'stateofthedead', 'Darinkafedotova', 'AsyaOffiicial', 'KatyaOtchesova', 'kondrashova_k', 'Blckllth', '_nikaisaeva_', '0boom0boom', 'rd_rsl', 'MAshytka___', 'lunnaya_ellia', 'kondratenko_m_', 'WomansToday1', 'CryAllNightt', 'byrceva_555_78', 'vlasevskaya2016', 'remmiing', 'Vika_Bastr', '3xPr9o8Gj0hGx7J', '_Liska_harmful', 'victimofpass', 'Danya_731', 'albinagarazha', 'minor_sophie', 'youttth', 'small_anorex', 'julycaaat', 'iwanttobehappii', 'ksenya985', '_friwed_', 'dashamats32', 'yandamir16', '77_adss', 'zickaaa30', 'lisichka0607', 'astyusha777', 'Elizavetaa1810', 'hristosivna', 'ksushmakomeli', 'playgam82875874', 'zlFmpTehyUp6raf', 'stiamee', 'nederlandka', 'ASHERON16', 'kissslowly1189', 'jeizor1', 'wfScSwKILiWbP8U', 'thepartyssover', 'MoonKissik', 'haskanumem', 'semkrugov1', 'dasha_kora9568', 'LizaMalinina3', 'w2AB4skjR4ReREr', 'voobschepohuyu', 'trofimovaks', 'jul_sun07', '_nasty_girl_', 'sx_tyan', 'Mil__ova', 'navernomsh', 'Dominicanananaw', 'LeraDenisovaa', 'Alinochkaaa___', 'Llisa_Aa', 'f_nst_', 'kamrmnv', 'drug_your_chick', '1DerfulGirl__1D', 'vyazowtsev', 'innflyy', 'kaprizu_ly', 'adelinnnnaa', 'karinalitasova1', 'DeliNicole', '_datysik_', '_Valeria04_', '_nafanya_13', 'Kaveneva', '_lovecats__', 'bartyulya', '18lina_malina', 'cutiechoice', 'Rozaliya_K1719', '05Kseniya30', 'el_vixen', 'SuckSadU', '1_zuma_1', 'tfulelmaku13', '_lizaaa1', 'Lucius_Lord', 'kaainova', 'LR65611735', 'Ana_Sia_Tia', 'snezok756', '_ANZHELIKAAA', 'greatkkkkk', 'kurochkadyavola', 'bazaranoli', 'kassigalaxxy', 'satana_miu', '_hikari_4', 'peach__cake', '5vFjTIlx7AhFPmH', '__masha_22', 'zmanovskaia_zei', 'milkoffi', 'gordeevakr', 'Emma_keksik18', 'twsmagazine', 'Druzik16', 'yuliaasuprun', 'bby_helena', 'crybabycry050', 'LikaMargieva', 'safushaa', 'marselbizzle', 'Angel20278612', 'YSzKk5nCtru4fN0', 'LanaMahalova', 'vvvvvvooo6', 'mintdosee', 'Antonenko_02', 'KsyuRudometova', 'watrushaa', 'n_kr_19', 'd0br0e_utr0', 'starostenko_di', 'ikonochka', 'valentos015', 'ZaichikLucifer', 'Elena97828127', 'nedosyagayemaya', 'alena_murmur', 'sasha99570687', 'sinechkaaa', 'sushkovamasha51', 'ocheretnayaaaa', '_doshic_', 'tvoiiiikot', 'princessaAny1', 'aliskka_', 'glukhova34', 'Polina_Ivchenko', 'kisikmurisik', 'Cm6k5', 'NKsenia86', 'stasssiana', '_IKristianI_', 'naastych', 'Alina_K479', 'Baleri1210', 'juliya_seltsam', 'LngKiss', 'back_dead19', 'kendal_007', 'smolenskaya_a_g', 'lesya_aladina', 'arinaaa_g', 'vishenua', 'Kate_Babiy', 'galkinanastya16', 'Julia_69_', 'edvardovna_a', 'j_mrklchv', 'somneniyaa', 'Jes_Jes_', 'T_a_l_o_l_i_n_a', 'k_evstafeva', 'alina_garazha', 'MariaValSh', 'mosheva27', 'arinkinn', '_sinebodka_', 'lihanova_vera', 'sssshipuchka', 'Kristina260800', 'luda9596', 'rowldiss', 'volk_di16', 'KrasovskajaA', 'murchaaa', 'montecrat', 'oss_lera_', 'tvoyadefchonka', 'kkk_lunalyka', 'CYKA_HA_OKHE', 'qiCrdyV6phe5Atn', 'Nizheenko', 'sasss_ka', 'kisss_07', '_alliluia_', '_Rybalko_', 'separvtizm', 'blyat_cobaka', 'mona_lisa_nk', 'CrisMoskvina', 'na_tysa', 'Elizaveta_1402', 'lenakochetkova5', 'loocalbitch', 'mazunova17', 'mmmmmrrrrrrr__', 'ktrwsmn', 'g_s_d_u', 'filonenko21', '96_unicorn_', 'xdkfgndlgjrptgj', 'HoranovaIrina', 'Elizaveta2088', '66alchemist99', 'RRudnitkaya', 'smeihuechki', 'nasty_nastys', 'kristinaberes', 'sof_zh', 'lkis18', 'Kim_hdgf', '__olga_27', 'alina_k_24', '_drondina_', 'e1eelye', 'StepanovaSofi', 'dasha_dunn', 'mrrrr1104', 'uiliagauf', 'Rimoova', 'kecha981', 'pnv_rrrr', 'malenkay_x', '__hhhoodyy__', '__Voznesenskaya', 'Boohauy', 'errfalcon', 'kzntsva_nellya', 'salemsarayrh', 'arinaosipova1', 'dinarara_sh', 'xoxoxovegaa', 'kseniacatt', 'OdalysGomez15', 'lukina_v', 'dopewhale00', 'ju_trofimovaaa', 'ivanbutyai', 'radugnyalena', 'pinkman_cook', 'Romankooy28', '_nika025', 'glavashtaba', 'victoooriatr', 'Katya85557022', 'arinkasteep', 'KKotelevskaya', 'Gordeich4', 'Vera1722', 'di_friz', 'k_mityaeva', 'Valeria_Vlsk', 'julihrum', 'dayadaylight', 'Azzzxxxxxxxx', 'Etozhei', 'interpreti4niy', 'ksushagolts', 'niktonespaset', 'nelia_murr', 'nekopytkina1', 'Vika_S29', 'churkinaaa', 'Karpyxa52938', 'cheremuhka19', 'ufefelovaaa', 'olyan228', 'daaanyaaa_', 'stephanietto', 'piskaetootpiska', 'CrichtonVIKA', 'divysee', 'arishaaa07', 'dura_durakskaya', 'dorofeeva_14', '4Demeshko', 'KrisDyk05', 'Tatyana_Hucci', 'komunismm', 'MariyKrupiy', 'lera1999leraa', 'andptt1', 'nattoms_s', '_Mrazotka_', 'aleksandra___01', 'dddeathhh_', 'o_anya___', 'ibinahuy', 'anya__bmw', 'Lesnikova0', 'Salnikova_kat', 'introvertik_', 'twitt_vtrv_', 'kris18_va', 'sofika_999', 'bur_unduchka17', 'lesya_v66', 'Anastasia_Vatt', 'beammartinss', 'qvintes', 'Jene_11', 's_wwwine', 'paloaltosteen', 'alena_v_i', 'archiaria', 'tyaps23', 'KavaD2003', 'oydevki', 'anekpenek', 'Istominapolli', '__monstrik__', 'garina99', 'Hertzog59969749', 'Khlyaleks', 'ne_grystno', 'strukkova', 'lavntsun', 'kulakova1409', 'Zavorina088', '_viktoraaaa_', 'manyunyaaaaaa', 'SvastiMayl', '__nnastyuha', 'treskovavaleria', 'an_tarasuk', 'Ksusha_Polya', 'lepnaa', 'xxlnaas', 'diana_sakruta7', 'Irina4585', '_Tatya999_', '_mrr___myau_', 'lkillmel', 'muuduckk', 'TREGUBOVA_E', 'AlnBelyaeva', 'el_vishnevskaya', 'katerina_0440', 'eroshenko___', 'polinari_ya', 'soniazarezaeva', 'd_andrusenko', 'xsrmkshvlnx', 'Exalted_505', 'sonechkaaa22', '_grandeur_l', 'ku_prif', 'ministrelia9999', 'mashchenko192', '_jaeslee_', 'anastasiam287', 'sweet_uniks', 'dashalebedeva85', 'uch_burdan', 'darinaavicii', 'an_mrch23', 'pavlovaall', 'sofyaaach']}, {'j784JDit2U6vHRj': ['_wicked19_', 'k_chernenko', 'annaandreeva382', 'gdn6uzOvBOvdlB0', 'jigovod', 'sshhfq7', 'Kristina_2611', 'zlFmpTehyUp6raf', 'Lolbad6', 'lukyanovasofa', 'moskalevaal01', 'bOO2hcVQHmKgyI0', 'vakhmulnina', '7aWCP2i1JDHkPPR', 'qrlQmOY5TcHoFDt', 'ismailova001_', 'danil_volchenko', 'natalia_237_', 'Christie0000', 'mZiMtOmczkqkHEJ', 'anastasssss_', '_vorotilova_', 'vahmulnina']}]\n"
          ],
          "name": "stdout"
        }
      ]
    },
    {
      "cell_type": "markdown",
      "metadata": {
        "id": "rYnnfZ8LXyoy",
        "colab_type": "text"
      },
      "source": [
        "Now lets clean up the followers list, extract the useful information, and build our graph object (note that building the graph object may take a while...):"
      ]
    },
    {
      "cell_type": "code",
      "metadata": {
        "id": "gdBkeom-Xyo7",
        "colab_type": "code",
        "colab": {}
      },
      "source": [
        "#Get unique user ids:\n",
        "unique_screen_names = get_unique_ids(followers_list)\n",
        "\n",
        "#Get connections (edges)\n",
        "edge_list_out = get_edges(followers_list)\n",
        "\n",
        "#Build association matrix\n",
        "association_matrix = build_association_matrix(followers_list)\n",
        "\n",
        "#Instantiate graph object\n",
        "G = build_ego_graph(unique_screen_names, edge_list_out)"
      ],
      "execution_count": 0,
      "outputs": []
    },
    {
      "cell_type": "markdown",
      "metadata": {
        "id": "PQMIW69mXypP",
        "colab_type": "text"
      },
      "source": [
        "Let's examine the association matrix (first 10 elements):"
      ]
    },
    {
      "cell_type": "code",
      "metadata": {
        "id": "TaMs73B6XypX",
        "colab_type": "code",
        "colab": {}
      },
      "source": [
        "print(association_matrix[:10,:10])"
      ],
      "execution_count": 0,
      "outputs": []
    },
    {
      "cell_type": "markdown",
      "metadata": {
        "id": "Bqqb4qiDXypo",
        "colab_type": "text"
      },
      "source": [
        "Now, let's prune the graph to remove screen names with only one connection to aid in visualiation:"
      ]
    },
    {
      "cell_type": "code",
      "metadata": {
        "id": "uVNLgUEQXypu",
        "colab_type": "code",
        "colab": {}
      },
      "source": [
        "#Calculate degree centralities\n",
        "degree_centralities = nx.degree_centrality(G)\n",
        "one_degree = min(degree_centralities.values())\n",
        "\n",
        "#Get nodes of one degree:\n",
        "one_degree_nodes = []\n",
        "for node in degree_centralities.keys():\n",
        "    if degree_centralities[node] == one_degree:\n",
        "        one_degree_nodes.append(node)\n",
        "\n",
        "#Create copy of the graph \n",
        "H = copy.deepcopy(G)\n",
        "\n",
        "#Remove nodes with only one connection\n",
        "print('Total nodes before pruning: {0}').format(str(len(G.nodes())))\n",
        "\n",
        "for node in one_degree_nodes:\n",
        "    H.remove_node(node)\n",
        "\n",
        "print('Total nodes after pruning: {0}').format(str(len(H.nodes())))"
      ],
      "execution_count": 0,
      "outputs": []
    },
    {
      "cell_type": "markdown",
      "metadata": {
        "id": "PmfTHKX8Xyp-",
        "colab_type": "text"
      },
      "source": [
        "Now let's draw the pruned graph:"
      ]
    },
    {
      "cell_type": "code",
      "metadata": {
        "id": "ofAyqmkEXyqC",
        "colab_type": "code",
        "colab": {}
      },
      "source": [
        "nx.draw(H)\n",
        "plt.show()"
      ],
      "execution_count": 0,
      "outputs": []
    },
    {
      "cell_type": "markdown",
      "metadata": {
        "id": "vm3opprRXyqc",
        "colab_type": "text"
      },
      "source": [
        "Now let's use the eigenvector centralities to find the most influential nodes:"
      ]
    },
    {
      "cell_type": "code",
      "metadata": {
        "id": "vZX1CUyCXyqk",
        "colab_type": "code",
        "colab": {}
      },
      "source": [
        "#Calculate centralities\n",
        "eigenvector_centralities = nx.eigenvector_centralities(H)\n",
        "\n",
        "#Print node with maximum eigenvector centrality\n",
        "inverse = [(value, key) for key, value in eigenvector_centralities.items()]\n",
        "print max(inverse)[1]"
      ],
      "execution_count": 0,
      "outputs": []
    }
  ]
}