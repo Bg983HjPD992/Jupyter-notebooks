{
 "cells": [
  {
   "cell_type": "markdown",
   "metadata": {},
   "source": [
    "# Data Science Tools and Techniques\n",
    "# Flow Control Exercise"
   ]
  },
  {
   "cell_type": "markdown",
   "metadata": {},
   "source": [
    "Perform the tasks below to demonstrate your understanding of flow control.  For reference, you may use the Python documentation on flow control:\n",
    "\n",
    "https://docs.python.org/3/tutorial/controlflow.html"
   ]
  },
  {
   "cell_type": "markdown",
   "metadata": {},
   "source": [
    "In the space below, write and execute an if statement that will check to see if an integer is greater than 0.  If the integer is greater than 0, print \"I heart data science!!\"  If the integer is less than or equal to 0, print \"Bye Felicia!\""
   ]
  },
  {
   "cell_type": "code",
   "execution_count": null,
   "metadata": {
    "collapsed": true
   },
   "outputs": [],
   "source": []
  },
  {
   "cell_type": "markdown",
   "metadata": {},
   "source": [
    "While loops will iterate until a condition is false.\n",
    "\n",
    "in pseudocode:\n",
    "\n",
    "while x is true:\n",
    "    do y\n",
    "\n",
    "In the space below, construct a while loop that will print the value of i starting at 0, until i==100."
   ]
  },
  {
   "cell_type": "code",
   "execution_count": null,
   "metadata": {
    "collapsed": true
   },
   "outputs": [],
   "source": []
  },
  {
   "cell_type": "markdown",
   "metadata": {},
   "source": [
    "For loops will iterate over an iterable object (e.g., a list or a range).\n",
    "\n",
    "In pseudocode:\n",
    "\n",
    "iterable_object = [0,1,2,4,5,7,8,90]\n",
    "for i in iterable_object:\n",
    "    print(i + 6)\n",
    "\n",
    "In the space below, construct a for loop that will calculate and print the product of i and a constant, for a list consisting of 20 integers."
   ]
  },
  {
   "cell_type": "code",
   "execution_count": null,
   "metadata": {
    "collapsed": true
   },
   "outputs": [],
   "source": []
  },
  {
   "cell_type": "markdown",
   "metadata": {},
   "source": [
    "A prime number is any integer greater than 1 that is only evenly divisible by itself and 1.  Wilson's Theorem can be used to determine primality:\n",
    "\n",
    "Wilson's Theorem states that:\n",
    "\n",
    "if ((n-1)!+1)%n=0, then n is a prime number.  The % symbol refers to the modulo operation, which is the remainder in division.  For example, 7/3 = 2 remainder 1, thus 7%3 = 1.  The ! symbol refers to the factorial operation, and can be invoked using the math library:\n",
    "\n",
    "import math\n",
    "n! = math.factorial(n)\n",
    "\n",
    "Using this information, in the space below, construct a for loop that will determine the primality of all integers in the following list:\n",
    "\n",
    "test_integers = [2, 3, 4, 5, 6, 7, 8, 9, 10, 11, 12, 13, 14, 15]\n",
    "\n",
    "The loop should print the number from the test_integers list if that integer is prime."
   ]
  },
  {
   "cell_type": "code",
   "execution_count": null,
   "metadata": {
    "collapsed": true
   },
   "outputs": [],
   "source": []
  }
 ],
 "metadata": {
  "kernelspec": {
   "display_name": "Python 2",
   "language": "python",
   "name": "python2"
  },
  "language_info": {
   "codemirror_mode": {
    "name": "ipython",
    "version": 2
   },
   "file_extension": ".py",
   "mimetype": "text/x-python",
   "name": "python",
   "nbconvert_exporter": "python",
   "pygments_lexer": "ipython2",
   "version": "2.7.13"
  }
 },
 "nbformat": 4,
 "nbformat_minor": 2
}
